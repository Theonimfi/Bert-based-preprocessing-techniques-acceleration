{
  "nbformat": 4,
  "nbformat_minor": 0,
  "metadata": {
    "colab": {
      "name": "results_analysis.ipynb",
      "provenance": [],
      "collapsed_sections": []
    },
    "kernelspec": {
      "name": "python3",
      "display_name": "Python 3"
    },
    "language_info": {
      "name": "python"
    }
  },
  "cells": [
    {
      "cell_type": "code",
      "metadata": {
        "id": "nqRie3vpFuKw"
      },
      "source": [
        "!pip install pandas\n",
        "!pip install seaborn"
      ],
      "execution_count": null,
      "outputs": []
    },
    {
      "cell_type": "markdown",
      "metadata": {
        "id": "3U5H4o0YZt5c"
      },
      "source": [
        "Read the sheet with the results of the experiments and transform the data so that we have the accuracy for each preprocessing technique for each dataset."
      ]
    },
    {
      "cell_type": "code",
      "metadata": {
        "id": "3ZZWmCw8E_gX"
      },
      "source": [
        "import pandas as pd\n",
        "\n",
        "URL = 'https://drive.google.com/file/d/1y638fqD3GiRvgpMPy7H6i6Q7hBteDyq8/view?usp=sharing'\n",
        "path = 'https://drive.google.com/uc?export=download&id='+URL.split('/')[-2]\n",
        "df = pd.read_csv(path)\n",
        "df = df[[\"prepr technique\", \"eval_accuracy\"]]"
      ],
      "execution_count": null,
      "outputs": []
    },
    {
      "cell_type": "code",
      "metadata": {
        "id": "niu5dJLuGPi5"
      },
      "source": [
        "df['dataset'] = df.apply(lambda row: row['prepr technique'][0:2], axis=1)\n",
        "df['prepr technique'] = df.apply(lambda row: row['prepr technique'][3:], axis=1)"
      ],
      "execution_count": null,
      "outputs": []
    },
    {
      "cell_type": "code",
      "metadata": {
        "id": "zERFGzGfG3A2"
      },
      "source": [
        "df"
      ],
      "execution_count": null,
      "outputs": []
    },
    {
      "cell_type": "code",
      "metadata": {
        "id": "r3DdCy9VJ7uY"
      },
      "source": [
        "table = pd.pivot_table(df, values='eval_accuracy', index='prepr technique', columns = 'dataset')\n",
        "table"
      ],
      "execution_count": null,
      "outputs": []
    },
    {
      "cell_type": "markdown",
      "metadata": {
        "id": "J-xZFAjQaOOO"
      },
      "source": [
        "Create heatmaps to better understand the performance of each preprocessing technique in all the datasets"
      ]
    },
    {
      "cell_type": "code",
      "metadata": {
        "id": "NtpK0TtfNS6h"
      },
      "source": [
        "import seaborn as sns\n",
        "import matplotlib.pyplot as plt\n",
        "\n",
        "fig, ax = plt.subplots(figsize=(14,8))         # Sample figsize in inches\n",
        "\n",
        "# normalize data per dataset so that it will be more clear how each technique performs compared to the rest in the same dataset https://stackoverflow.com/a/42131487\n",
        "table_n = table.div(table.max(axis=0), axis=1)\n",
        "\n",
        "plot = sns.heatmap(table_n, cmap=\"YlGnBu\", annot=True, fmt='.3f')\n",
        "plt.setp(plot.get_xticklabels(), rotation=0)\n",
        "plot\n"
      ],
      "execution_count": null,
      "outputs": []
    },
    {
      "cell_type": "code",
      "metadata": {
        "id": "Yi3NDmB4N7Vh"
      },
      "source": [
        "table_n"
      ],
      "execution_count": null,
      "outputs": []
    },
    {
      "cell_type": "code",
      "metadata": {
        "id": "RbYpAvNvqsz1"
      },
      "source": [
        "#Visualize the ranking in accuracy for each technique. Higher is better.\n",
        "table2 = pd.DataFrame(index=table.index)\n",
        "\n",
        "table2['D1_ranking'] = table['D1'].rank()\n",
        "table2['D2_ranking'] = table['D2'].rank()\n",
        "table2['D3_ranking'] = table['D3'].rank()\n",
        "table2['D4_ranking'] = table['D4'].rank()\n",
        "\n",
        "\n",
        "fig, ax = plt.subplots(figsize=(14,8))         # Sample figsize in inches\n",
        "plot = sns.heatmap(table2, cmap=\"YlGnBu\", annot=True)\n",
        "plt.setp(plot.get_xticklabels(), rotation=0)\n",
        "plot"
      ],
      "execution_count": null,
      "outputs": []
    },
    {
      "cell_type": "code",
      "metadata": {
        "id": "wwz8A6FvrjTT"
      },
      "source": [
        "# Check the variance in accuracy for each dataset\n",
        "table.var(axis=0)"
      ],
      "execution_count": null,
      "outputs": []
    }
  ]
}